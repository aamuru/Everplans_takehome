{
 "cells": [
  {
   "cell_type": "markdown",
   "id": "06fc1693",
   "metadata": {},
   "source": [
    "# Everplans Data Engineer Code Test"
   ]
  },
  {
   "cell_type": "markdown",
   "id": "283f681c",
   "metadata": {},
   "source": [
    "#### The data provided is some basic activities done by users like creating an account, activating, logging in, loggin out and add contents to vaults provided.\n",
    "\n",
    "### The primary analysis of the data includes checking for missing,partial or invalid data\n",
    "- Importing the required packages and reading the dataset provided into pandas data frame \"user_activity\"\n",
    "- Asuming the data set is in the same folder as the jupyter notebook\n",
    "- printing the first few records"
   ]
  },
  {
   "cell_type": "code",
   "execution_count": 1,
   "id": "d03a53be",
   "metadata": {},
   "outputs": [
    {
     "data": {
      "text/html": [
       "<div>\n",
       "<style scoped>\n",
       "    .dataframe tbody tr th:only-of-type {\n",
       "        vertical-align: middle;\n",
       "    }\n",
       "\n",
       "    .dataframe tbody tr th {\n",
       "        vertical-align: top;\n",
       "    }\n",
       "\n",
       "    .dataframe thead th {\n",
       "        text-align: right;\n",
       "    }\n",
       "</style>\n",
       "<table border=\"1\" class=\"dataframe\">\n",
       "  <thead>\n",
       "    <tr style=\"text-align: right;\">\n",
       "      <th></th>\n",
       "      <th>user_id</th>\n",
       "      <th>timestamp</th>\n",
       "      <th>event</th>\n",
       "    </tr>\n",
       "  </thead>\n",
       "  <tbody>\n",
       "    <tr>\n",
       "      <th>0</th>\n",
       "      <td>eeb5138977d2e18f2f9071624e4d5757</td>\n",
       "      <td>2020-01-01 00:01:22</td>\n",
       "      <td>create</td>\n",
       "    </tr>\n",
       "    <tr>\n",
       "      <th>1</th>\n",
       "      <td>e28be90ec2538ff7708ee649a4ee8d61</td>\n",
       "      <td>2020-01-01 00:04:25</td>\n",
       "      <td>create</td>\n",
       "    </tr>\n",
       "    <tr>\n",
       "      <th>2</th>\n",
       "      <td>c784798b5d179ca695a405f2c737797b</td>\n",
       "      <td>2020-01-01 00:23:35</td>\n",
       "      <td>create</td>\n",
       "    </tr>\n",
       "    <tr>\n",
       "      <th>3</th>\n",
       "      <td>35ec8d997e035d9a7ca103654661f4d9</td>\n",
       "      <td>2020-01-01 00:25:48</td>\n",
       "      <td>create</td>\n",
       "    </tr>\n",
       "    <tr>\n",
       "      <th>4</th>\n",
       "      <td>070292c8307f41c18e02bb8cd09cfff3</td>\n",
       "      <td>2020-01-01 00:28:17</td>\n",
       "      <td>create</td>\n",
       "    </tr>\n",
       "  </tbody>\n",
       "</table>\n",
       "</div>"
      ],
      "text/plain": [
       "                            user_id            timestamp   event\n",
       "0  eeb5138977d2e18f2f9071624e4d5757  2020-01-01 00:01:22  create\n",
       "1  e28be90ec2538ff7708ee649a4ee8d61  2020-01-01 00:04:25  create\n",
       "2  c784798b5d179ca695a405f2c737797b  2020-01-01 00:23:35  create\n",
       "3  35ec8d997e035d9a7ca103654661f4d9  2020-01-01 00:25:48  create\n",
       "4  070292c8307f41c18e02bb8cd09cfff3  2020-01-01 00:28:17  create"
      ]
     },
     "execution_count": 1,
     "metadata": {},
     "output_type": "execute_result"
    }
   ],
   "source": [
    "import pandas as pd\n",
    "import numpy as np\n",
    "user_activity = pd.read_csv(\"raw_event_log.csv\")\n",
    "user_activity.head()"
   ]
  },
  {
   "cell_type": "markdown",
   "id": "e1a5e6d5",
   "metadata": {},
   "source": [
    "Checking for datatypes to decide if conversion are required"
   ]
  },
  {
   "cell_type": "code",
   "execution_count": 2,
   "id": "52f013b9",
   "metadata": {},
   "outputs": [
    {
     "data": {
      "text/plain": [
       "user_id      object\n",
       "timestamp    object\n",
       "event        object\n",
       "dtype: object"
      ]
     },
     "execution_count": 2,
     "metadata": {},
     "output_type": "execute_result"
    }
   ],
   "source": [
    "user_activity.dtypes"
   ]
  },
  {
   "cell_type": "markdown",
   "id": "961ed9d3",
   "metadata": {},
   "source": [
    "Converting the timestamp column into datetime format for further processing"
   ]
  },
  {
   "cell_type": "code",
   "execution_count": 3,
   "id": "95113086",
   "metadata": {},
   "outputs": [
    {
     "data": {
      "text/plain": [
       "user_id              object\n",
       "timestamp    datetime64[ns]\n",
       "event                object\n",
       "dtype: object"
      ]
     },
     "execution_count": 3,
     "metadata": {},
     "output_type": "execute_result"
    }
   ],
   "source": [
    "from datetime import datetime as dt\n",
    "user_activity['timestamp'] = pd.to_datetime(user_activity['timestamp'])\n",
    "user_activity.dtypes"
   ]
  },
  {
   "cell_type": "markdown",
   "id": "c40986fc",
   "metadata": {},
   "source": [
    "Checking if there are any null values in total and also getting count of null values if any in the column wise"
   ]
  },
  {
   "cell_type": "code",
   "execution_count": 4,
   "id": "9a9b2227",
   "metadata": {},
   "outputs": [
    {
     "data": {
      "text/plain": [
       "(False,\n",
       " user_id      0\n",
       " timestamp    0\n",
       " event        0\n",
       " dtype: int64)"
      ]
     },
     "execution_count": 4,
     "metadata": {},
     "output_type": "execute_result"
    }
   ],
   "source": [
    "user_activity.isnull().values.any(),user_activity.isnull().sum()"
   ]
  },
  {
   "cell_type": "markdown",
   "id": "e028765a",
   "metadata": {},
   "source": [
    "Check for valid events, to clean up if any misspelled or worng events"
   ]
  },
  {
   "cell_type": "code",
   "execution_count": 5,
   "id": "69a86b49",
   "metadata": {},
   "outputs": [
    {
     "data": {
      "text/plain": [
       "array(['create', 'activate', 'add_to_vault', 'logout', 'login'],\n",
       "      dtype=object)"
      ]
     },
     "execution_count": 5,
     "metadata": {},
     "output_type": "execute_result"
    }
   ],
   "source": [
    "user_activity.event.unique()"
   ]
  },
  {
   "cell_type": "markdown",
   "id": "233b5f7b",
   "metadata": {},
   "source": [
    "Checking for number of unique users"
   ]
  },
  {
   "cell_type": "code",
   "execution_count": 6,
   "id": "e04c49a4",
   "metadata": {},
   "outputs": [
    {
     "data": {
      "text/plain": [
       "12001"
      ]
     },
     "execution_count": 6,
     "metadata": {},
     "output_type": "execute_result"
    }
   ],
   "source": [
    "user_activity.user_id.nunique()"
   ]
  },
  {
   "cell_type": "markdown",
   "id": "ee8d0a21",
   "metadata": {},
   "source": [
    "Checking if the user_id column has only alpha numeric characters"
   ]
  },
  {
   "cell_type": "code",
   "execution_count": 7,
   "id": "9d454f82",
   "metadata": {},
   "outputs": [
    {
     "data": {
      "text/plain": [
       "array([ True])"
      ]
     },
     "execution_count": 7,
     "metadata": {},
     "output_type": "execute_result"
    }
   ],
   "source": [
    "user_activity['user_id'].map(lambda x:x.isalnum()).unique()"
   ]
  },
  {
   "cell_type": "markdown",
   "id": "3af0f259",
   "metadata": {},
   "source": [
    "# Question 1"
   ]
  },
  {
   "cell_type": "markdown",
   "id": "643ec6d0",
   "metadata": {},
   "source": [
    "### create a dataset that has 1 record for each unique user ID, with the following dimensions and measures:\n",
    "- Date of activation. (user may or may not have activated).\n",
    "- total_logins: The total number of times the user has logged in.\n",
    "- total_vault_events: The total number of times a user has done the add_to_vault event.\n",
    "- time_to_activate: The number of seconds it took for teh user to go from create to activate.\n",
    "\n"
   ]
  },
  {
   "cell_type": "markdown",
   "id": "e496c12d",
   "metadata": {},
   "source": [
    "### Choosing only activated users\n",
    "\n",
    "- As mentioned not all users will have activated their account.\n",
    "- Assuming activation of account is required to do any other activity."
   ]
  },
  {
   "cell_type": "code",
   "execution_count": 8,
   "id": "1bc1e2b4",
   "metadata": {},
   "outputs": [
    {
     "data": {
      "text/html": [
       "<div>\n",
       "<style scoped>\n",
       "    .dataframe tbody tr th:only-of-type {\n",
       "        vertical-align: middle;\n",
       "    }\n",
       "\n",
       "    .dataframe tbody tr th {\n",
       "        vertical-align: top;\n",
       "    }\n",
       "\n",
       "    .dataframe thead th {\n",
       "        text-align: right;\n",
       "    }\n",
       "</style>\n",
       "<table border=\"1\" class=\"dataframe\">\n",
       "  <thead>\n",
       "    <tr style=\"text-align: right;\">\n",
       "      <th></th>\n",
       "      <th>user_id</th>\n",
       "      <th>timestamp</th>\n",
       "      <th>event</th>\n",
       "    </tr>\n",
       "  </thead>\n",
       "  <tbody>\n",
       "    <tr>\n",
       "      <th>0</th>\n",
       "      <td>c16805f31723c4628121655eb3b6b9b8</td>\n",
       "      <td>2020-01-01 00:57:06</td>\n",
       "      <td>activate</td>\n",
       "    </tr>\n",
       "    <tr>\n",
       "      <th>1</th>\n",
       "      <td>eeb5138977d2e18f2f9071624e4d5757</td>\n",
       "      <td>2020-01-01 01:22:02</td>\n",
       "      <td>activate</td>\n",
       "    </tr>\n",
       "    <tr>\n",
       "      <th>2</th>\n",
       "      <td>6022e854c088ffa1f2a04dfad4d05e3f</td>\n",
       "      <td>2020-01-01 01:36:42</td>\n",
       "      <td>activate</td>\n",
       "    </tr>\n",
       "    <tr>\n",
       "      <th>3</th>\n",
       "      <td>5992c483bdab1c36edb7e9ceaea01af0</td>\n",
       "      <td>2020-01-01 03:36:35</td>\n",
       "      <td>activate</td>\n",
       "    </tr>\n",
       "    <tr>\n",
       "      <th>4</th>\n",
       "      <td>4c8fd2ea8b8897f45219c9d5a4e3b11c</td>\n",
       "      <td>2020-01-01 04:19:43</td>\n",
       "      <td>activate</td>\n",
       "    </tr>\n",
       "  </tbody>\n",
       "</table>\n",
       "</div>"
      ],
      "text/plain": [
       "                            user_id           timestamp     event\n",
       "0  c16805f31723c4628121655eb3b6b9b8 2020-01-01 00:57:06  activate\n",
       "1  eeb5138977d2e18f2f9071624e4d5757 2020-01-01 01:22:02  activate\n",
       "2  6022e854c088ffa1f2a04dfad4d05e3f 2020-01-01 01:36:42  activate\n",
       "3  5992c483bdab1c36edb7e9ceaea01af0 2020-01-01 03:36:35  activate\n",
       "4  4c8fd2ea8b8897f45219c9d5a4e3b11c 2020-01-01 04:19:43  activate"
      ]
     },
     "execution_count": 8,
     "metadata": {},
     "output_type": "execute_result"
    }
   ],
   "source": [
    "activated_users = user_activity[user_activity['event']=='activate'].reset_index(drop=True)\n",
    "activated_users.head()"
   ]
  },
  {
   "cell_type": "markdown",
   "id": "09c038fc",
   "metadata": {},
   "source": [
    "* Calculating the total number of times a user logged in into the account\n",
    "\n",
    "* Using group by fuction to get the count of logins"
   ]
  },
  {
   "cell_type": "code",
   "execution_count": 9,
   "id": "75269d0d",
   "metadata": {},
   "outputs": [],
   "source": [
    "grouped_users= user_activity.groupby(['user_id','event']).count().reset_index()\n",
    "loggedin_users = grouped_users[grouped_users['event']=='login']"
   ]
  },
  {
   "cell_type": "code",
   "execution_count": 10,
   "id": "b01caabc",
   "metadata": {},
   "outputs": [
    {
     "data": {
      "text/plain": [
       "user_id      object\n",
       "event        object\n",
       "timestamp     int64\n",
       "dtype: object"
      ]
     },
     "execution_count": 10,
     "metadata": {},
     "output_type": "execute_result"
    }
   ],
   "source": [
    "#Checking for datatypes the count is taken as a floating value\n",
    "loggedin_users.dtypes"
   ]
  },
  {
   "cell_type": "markdown",
   "id": "71d39e04",
   "metadata": {},
   "source": [
    "- Utilizing the join method to join the two dataframes for activated users and loggedin users based on the \"user_id\" column.\n",
    "- Applying a left join so as to get the login counts for activated user alone"
   ]
  },
  {
   "cell_type": "code",
   "execution_count": 11,
   "id": "6b46a7de",
   "metadata": {},
   "outputs": [],
   "source": [
    "activated_users=activated_users.set_index('user_id').join(loggedin_users.set_index('user_id'),how='left', rsuffix='_login',on= 'user_id')"
   ]
  },
  {
   "cell_type": "markdown",
   "id": "578e4e4c",
   "metadata": {},
   "source": [
    "- Inserting 0s where the user might have activated the account bot might not have logged in.\n",
    "- The join would result in NaN values for users who have not loggedin into the account"
   ]
  },
  {
   "cell_type": "code",
   "execution_count": 12,
   "id": "c1ad604b",
   "metadata": {},
   "outputs": [
    {
     "data": {
      "text/html": [
       "<div>\n",
       "<style scoped>\n",
       "    .dataframe tbody tr th:only-of-type {\n",
       "        vertical-align: middle;\n",
       "    }\n",
       "\n",
       "    .dataframe tbody tr th {\n",
       "        vertical-align: top;\n",
       "    }\n",
       "\n",
       "    .dataframe thead th {\n",
       "        text-align: right;\n",
       "    }\n",
       "</style>\n",
       "<table border=\"1\" class=\"dataframe\">\n",
       "  <thead>\n",
       "    <tr style=\"text-align: right;\">\n",
       "      <th></th>\n",
       "      <th>timestamp</th>\n",
       "      <th>event</th>\n",
       "      <th>event_login</th>\n",
       "      <th>timestamp_login</th>\n",
       "    </tr>\n",
       "    <tr>\n",
       "      <th>user_id</th>\n",
       "      <th></th>\n",
       "      <th></th>\n",
       "      <th></th>\n",
       "      <th></th>\n",
       "    </tr>\n",
       "  </thead>\n",
       "  <tbody>\n",
       "    <tr>\n",
       "      <th>c16805f31723c4628121655eb3b6b9b8</th>\n",
       "      <td>2020-01-01 00:57:06</td>\n",
       "      <td>activate</td>\n",
       "      <td>login</td>\n",
       "      <td>7.0</td>\n",
       "    </tr>\n",
       "    <tr>\n",
       "      <th>eeb5138977d2e18f2f9071624e4d5757</th>\n",
       "      <td>2020-01-01 01:22:02</td>\n",
       "      <td>activate</td>\n",
       "      <td>NaN</td>\n",
       "      <td>0.0</td>\n",
       "    </tr>\n",
       "    <tr>\n",
       "      <th>6022e854c088ffa1f2a04dfad4d05e3f</th>\n",
       "      <td>2020-01-01 01:36:42</td>\n",
       "      <td>activate</td>\n",
       "      <td>login</td>\n",
       "      <td>3.0</td>\n",
       "    </tr>\n",
       "    <tr>\n",
       "      <th>5992c483bdab1c36edb7e9ceaea01af0</th>\n",
       "      <td>2020-01-01 03:36:35</td>\n",
       "      <td>activate</td>\n",
       "      <td>login</td>\n",
       "      <td>5.0</td>\n",
       "    </tr>\n",
       "    <tr>\n",
       "      <th>4c8fd2ea8b8897f45219c9d5a4e3b11c</th>\n",
       "      <td>2020-01-01 04:19:43</td>\n",
       "      <td>activate</td>\n",
       "      <td>login</td>\n",
       "      <td>8.0</td>\n",
       "    </tr>\n",
       "  </tbody>\n",
       "</table>\n",
       "</div>"
      ],
      "text/plain": [
       "                                           timestamp     event event_login  \\\n",
       "user_id                                                                      \n",
       "c16805f31723c4628121655eb3b6b9b8 2020-01-01 00:57:06  activate       login   \n",
       "eeb5138977d2e18f2f9071624e4d5757 2020-01-01 01:22:02  activate         NaN   \n",
       "6022e854c088ffa1f2a04dfad4d05e3f 2020-01-01 01:36:42  activate       login   \n",
       "5992c483bdab1c36edb7e9ceaea01af0 2020-01-01 03:36:35  activate       login   \n",
       "4c8fd2ea8b8897f45219c9d5a4e3b11c 2020-01-01 04:19:43  activate       login   \n",
       "\n",
       "                                  timestamp_login  \n",
       "user_id                                            \n",
       "c16805f31723c4628121655eb3b6b9b8              7.0  \n",
       "eeb5138977d2e18f2f9071624e4d5757              0.0  \n",
       "6022e854c088ffa1f2a04dfad4d05e3f              3.0  \n",
       "5992c483bdab1c36edb7e9ceaea01af0              5.0  \n",
       "4c8fd2ea8b8897f45219c9d5a4e3b11c              8.0  "
      ]
     },
     "execution_count": 12,
     "metadata": {},
     "output_type": "execute_result"
    }
   ],
   "source": [
    "activated_users['timestamp_login'] = activated_users['timestamp_login'].fillna(0)\n",
    "activated_users.head()"
   ]
  },
  {
   "cell_type": "markdown",
   "id": "1408106b",
   "metadata": {},
   "source": [
    "__Dropping unwanted columns and renaming the columns__"
   ]
  },
  {
   "cell_type": "code",
   "execution_count": 13,
   "id": "3a18bdc1",
   "metadata": {},
   "outputs": [],
   "source": [
    "activated_users=activated_users.drop(['event','event_login'],axis=1)\n",
    "activated_users = activated_users.rename(columns={\"timestamp\": \"date_of_activation\", \"timestamp_login\": \"login_count\"})"
   ]
  },
  {
   "cell_type": "code",
   "execution_count": 14,
   "id": "4f886b80",
   "metadata": {},
   "outputs": [
    {
     "data": {
      "text/html": [
       "<div>\n",
       "<style scoped>\n",
       "    .dataframe tbody tr th:only-of-type {\n",
       "        vertical-align: middle;\n",
       "    }\n",
       "\n",
       "    .dataframe tbody tr th {\n",
       "        vertical-align: top;\n",
       "    }\n",
       "\n",
       "    .dataframe thead th {\n",
       "        text-align: right;\n",
       "    }\n",
       "</style>\n",
       "<table border=\"1\" class=\"dataframe\">\n",
       "  <thead>\n",
       "    <tr style=\"text-align: right;\">\n",
       "      <th></th>\n",
       "      <th>date_of_activation</th>\n",
       "      <th>login_count</th>\n",
       "    </tr>\n",
       "    <tr>\n",
       "      <th>user_id</th>\n",
       "      <th></th>\n",
       "      <th></th>\n",
       "    </tr>\n",
       "  </thead>\n",
       "  <tbody>\n",
       "    <tr>\n",
       "      <th>c16805f31723c4628121655eb3b6b9b8</th>\n",
       "      <td>2020-01-01 00:57:06</td>\n",
       "      <td>7.0</td>\n",
       "    </tr>\n",
       "    <tr>\n",
       "      <th>eeb5138977d2e18f2f9071624e4d5757</th>\n",
       "      <td>2020-01-01 01:22:02</td>\n",
       "      <td>0.0</td>\n",
       "    </tr>\n",
       "    <tr>\n",
       "      <th>6022e854c088ffa1f2a04dfad4d05e3f</th>\n",
       "      <td>2020-01-01 01:36:42</td>\n",
       "      <td>3.0</td>\n",
       "    </tr>\n",
       "    <tr>\n",
       "      <th>5992c483bdab1c36edb7e9ceaea01af0</th>\n",
       "      <td>2020-01-01 03:36:35</td>\n",
       "      <td>5.0</td>\n",
       "    </tr>\n",
       "    <tr>\n",
       "      <th>4c8fd2ea8b8897f45219c9d5a4e3b11c</th>\n",
       "      <td>2020-01-01 04:19:43</td>\n",
       "      <td>8.0</td>\n",
       "    </tr>\n",
       "  </tbody>\n",
       "</table>\n",
       "</div>"
      ],
      "text/plain": [
       "                                  date_of_activation  login_count\n",
       "user_id                                                          \n",
       "c16805f31723c4628121655eb3b6b9b8 2020-01-01 00:57:06          7.0\n",
       "eeb5138977d2e18f2f9071624e4d5757 2020-01-01 01:22:02          0.0\n",
       "6022e854c088ffa1f2a04dfad4d05e3f 2020-01-01 01:36:42          3.0\n",
       "5992c483bdab1c36edb7e9ceaea01af0 2020-01-01 03:36:35          5.0\n",
       "4c8fd2ea8b8897f45219c9d5a4e3b11c 2020-01-01 04:19:43          8.0"
      ]
     },
     "execution_count": 14,
     "metadata": {},
     "output_type": "execute_result"
    }
   ],
   "source": [
    "activated_users.head()"
   ]
  },
  {
   "cell_type": "code",
   "execution_count": 15,
   "id": "8e7b60af",
   "metadata": {},
   "outputs": [],
   "source": [
    "vault_activity_counts = grouped_users[grouped_users['event']=='add_to_vault']"
   ]
  },
  {
   "cell_type": "markdown",
   "id": "080c7941",
   "metadata": {},
   "source": [
    "**Calculating the total vault events and joining with the already activated users**"
   ]
  },
  {
   "cell_type": "code",
   "execution_count": 16,
   "id": "596471e8",
   "metadata": {},
   "outputs": [],
   "source": [
    "activated_users=activated_users.join(vault_activity_counts.set_index('user_id'),how='left', rsuffix='_vault_events',on= 'user_id')"
   ]
  },
  {
   "cell_type": "code",
   "execution_count": 17,
   "id": "3b4c7fa5",
   "metadata": {},
   "outputs": [
    {
     "data": {
      "text/html": [
       "<div>\n",
       "<style scoped>\n",
       "    .dataframe tbody tr th:only-of-type {\n",
       "        vertical-align: middle;\n",
       "    }\n",
       "\n",
       "    .dataframe tbody tr th {\n",
       "        vertical-align: top;\n",
       "    }\n",
       "\n",
       "    .dataframe thead th {\n",
       "        text-align: right;\n",
       "    }\n",
       "</style>\n",
       "<table border=\"1\" class=\"dataframe\">\n",
       "  <thead>\n",
       "    <tr style=\"text-align: right;\">\n",
       "      <th></th>\n",
       "      <th>date_of_activation</th>\n",
       "      <th>login_count</th>\n",
       "      <th>event</th>\n",
       "      <th>timestamp</th>\n",
       "    </tr>\n",
       "    <tr>\n",
       "      <th>user_id</th>\n",
       "      <th></th>\n",
       "      <th></th>\n",
       "      <th></th>\n",
       "      <th></th>\n",
       "    </tr>\n",
       "  </thead>\n",
       "  <tbody>\n",
       "    <tr>\n",
       "      <th>c16805f31723c4628121655eb3b6b9b8</th>\n",
       "      <td>2020-01-01 00:57:06</td>\n",
       "      <td>7.0</td>\n",
       "      <td>add_to_vault</td>\n",
       "      <td>16.0</td>\n",
       "    </tr>\n",
       "    <tr>\n",
       "      <th>eeb5138977d2e18f2f9071624e4d5757</th>\n",
       "      <td>2020-01-01 01:22:02</td>\n",
       "      <td>0.0</td>\n",
       "      <td>add_to_vault</td>\n",
       "      <td>1.0</td>\n",
       "    </tr>\n",
       "    <tr>\n",
       "      <th>6022e854c088ffa1f2a04dfad4d05e3f</th>\n",
       "      <td>2020-01-01 01:36:42</td>\n",
       "      <td>3.0</td>\n",
       "      <td>add_to_vault</td>\n",
       "      <td>10.0</td>\n",
       "    </tr>\n",
       "    <tr>\n",
       "      <th>5992c483bdab1c36edb7e9ceaea01af0</th>\n",
       "      <td>2020-01-01 03:36:35</td>\n",
       "      <td>5.0</td>\n",
       "      <td>add_to_vault</td>\n",
       "      <td>16.0</td>\n",
       "    </tr>\n",
       "    <tr>\n",
       "      <th>4c8fd2ea8b8897f45219c9d5a4e3b11c</th>\n",
       "      <td>2020-01-01 04:19:43</td>\n",
       "      <td>8.0</td>\n",
       "      <td>add_to_vault</td>\n",
       "      <td>27.0</td>\n",
       "    </tr>\n",
       "  </tbody>\n",
       "</table>\n",
       "</div>"
      ],
      "text/plain": [
       "                                  date_of_activation  login_count  \\\n",
       "user_id                                                             \n",
       "c16805f31723c4628121655eb3b6b9b8 2020-01-01 00:57:06          7.0   \n",
       "eeb5138977d2e18f2f9071624e4d5757 2020-01-01 01:22:02          0.0   \n",
       "6022e854c088ffa1f2a04dfad4d05e3f 2020-01-01 01:36:42          3.0   \n",
       "5992c483bdab1c36edb7e9ceaea01af0 2020-01-01 03:36:35          5.0   \n",
       "4c8fd2ea8b8897f45219c9d5a4e3b11c 2020-01-01 04:19:43          8.0   \n",
       "\n",
       "                                         event  timestamp  \n",
       "user_id                                                    \n",
       "c16805f31723c4628121655eb3b6b9b8  add_to_vault       16.0  \n",
       "eeb5138977d2e18f2f9071624e4d5757  add_to_vault        1.0  \n",
       "6022e854c088ffa1f2a04dfad4d05e3f  add_to_vault       10.0  \n",
       "5992c483bdab1c36edb7e9ceaea01af0  add_to_vault       16.0  \n",
       "4c8fd2ea8b8897f45219c9d5a4e3b11c  add_to_vault       27.0  "
      ]
     },
     "execution_count": 17,
     "metadata": {},
     "output_type": "execute_result"
    }
   ],
   "source": [
    "activated_users.head()"
   ]
  },
  {
   "cell_type": "code",
   "execution_count": 18,
   "id": "c52569a9",
   "metadata": {},
   "outputs": [],
   "source": [
    "#Dropping the unwanted columns\n",
    "activated_users=activated_users.drop(['event'],axis=1)\n",
    "activated_users = activated_users.rename(columns={ \"timestamp\": \"total_vault_events\"})"
   ]
  },
  {
   "cell_type": "code",
   "execution_count": 19,
   "id": "d3a05423",
   "metadata": {},
   "outputs": [
    {
     "data": {
      "text/html": [
       "<div>\n",
       "<style scoped>\n",
       "    .dataframe tbody tr th:only-of-type {\n",
       "        vertical-align: middle;\n",
       "    }\n",
       "\n",
       "    .dataframe tbody tr th {\n",
       "        vertical-align: top;\n",
       "    }\n",
       "\n",
       "    .dataframe thead th {\n",
       "        text-align: right;\n",
       "    }\n",
       "</style>\n",
       "<table border=\"1\" class=\"dataframe\">\n",
       "  <thead>\n",
       "    <tr style=\"text-align: right;\">\n",
       "      <th></th>\n",
       "      <th>date_of_activation</th>\n",
       "      <th>login_count</th>\n",
       "      <th>total_vault_events</th>\n",
       "    </tr>\n",
       "    <tr>\n",
       "      <th>user_id</th>\n",
       "      <th></th>\n",
       "      <th></th>\n",
       "      <th></th>\n",
       "    </tr>\n",
       "  </thead>\n",
       "  <tbody>\n",
       "    <tr>\n",
       "      <th>c16805f31723c4628121655eb3b6b9b8</th>\n",
       "      <td>2020-01-01 00:57:06</td>\n",
       "      <td>7.0</td>\n",
       "      <td>16.0</td>\n",
       "    </tr>\n",
       "    <tr>\n",
       "      <th>eeb5138977d2e18f2f9071624e4d5757</th>\n",
       "      <td>2020-01-01 01:22:02</td>\n",
       "      <td>0.0</td>\n",
       "      <td>1.0</td>\n",
       "    </tr>\n",
       "    <tr>\n",
       "      <th>6022e854c088ffa1f2a04dfad4d05e3f</th>\n",
       "      <td>2020-01-01 01:36:42</td>\n",
       "      <td>3.0</td>\n",
       "      <td>10.0</td>\n",
       "    </tr>\n",
       "    <tr>\n",
       "      <th>5992c483bdab1c36edb7e9ceaea01af0</th>\n",
       "      <td>2020-01-01 03:36:35</td>\n",
       "      <td>5.0</td>\n",
       "      <td>16.0</td>\n",
       "    </tr>\n",
       "    <tr>\n",
       "      <th>4c8fd2ea8b8897f45219c9d5a4e3b11c</th>\n",
       "      <td>2020-01-01 04:19:43</td>\n",
       "      <td>8.0</td>\n",
       "      <td>27.0</td>\n",
       "    </tr>\n",
       "  </tbody>\n",
       "</table>\n",
       "</div>"
      ],
      "text/plain": [
       "                                  date_of_activation  login_count  \\\n",
       "user_id                                                             \n",
       "c16805f31723c4628121655eb3b6b9b8 2020-01-01 00:57:06          7.0   \n",
       "eeb5138977d2e18f2f9071624e4d5757 2020-01-01 01:22:02          0.0   \n",
       "6022e854c088ffa1f2a04dfad4d05e3f 2020-01-01 01:36:42          3.0   \n",
       "5992c483bdab1c36edb7e9ceaea01af0 2020-01-01 03:36:35          5.0   \n",
       "4c8fd2ea8b8897f45219c9d5a4e3b11c 2020-01-01 04:19:43          8.0   \n",
       "\n",
       "                                  total_vault_events  \n",
       "user_id                                               \n",
       "c16805f31723c4628121655eb3b6b9b8                16.0  \n",
       "eeb5138977d2e18f2f9071624e4d5757                 1.0  \n",
       "6022e854c088ffa1f2a04dfad4d05e3f                10.0  \n",
       "5992c483bdab1c36edb7e9ceaea01af0                16.0  \n",
       "4c8fd2ea8b8897f45219c9d5a4e3b11c                27.0  "
      ]
     },
     "execution_count": 19,
     "metadata": {},
     "output_type": "execute_result"
    }
   ],
   "source": [
    "activated_users.head()"
   ]
  },
  {
   "cell_type": "markdown",
   "id": "50eed1fd",
   "metadata": {},
   "source": [
    "#### Calculating the time taken for users to activate the accunt after creation\n",
    "- getting the timestamp when the count of the user was created"
   ]
  },
  {
   "cell_type": "code",
   "execution_count": 20,
   "id": "5200e52a",
   "metadata": {},
   "outputs": [
    {
     "data": {
      "text/html": [
       "<div>\n",
       "<style scoped>\n",
       "    .dataframe tbody tr th:only-of-type {\n",
       "        vertical-align: middle;\n",
       "    }\n",
       "\n",
       "    .dataframe tbody tr th {\n",
       "        vertical-align: top;\n",
       "    }\n",
       "\n",
       "    .dataframe thead th {\n",
       "        text-align: right;\n",
       "    }\n",
       "</style>\n",
       "<table border=\"1\" class=\"dataframe\">\n",
       "  <thead>\n",
       "    <tr style=\"text-align: right;\">\n",
       "      <th></th>\n",
       "      <th>user_id</th>\n",
       "      <th>timestamp</th>\n",
       "      <th>event</th>\n",
       "    </tr>\n",
       "  </thead>\n",
       "  <tbody>\n",
       "    <tr>\n",
       "      <th>0</th>\n",
       "      <td>eeb5138977d2e18f2f9071624e4d5757</td>\n",
       "      <td>2020-01-01 00:01:22</td>\n",
       "      <td>create</td>\n",
       "    </tr>\n",
       "    <tr>\n",
       "      <th>1</th>\n",
       "      <td>e28be90ec2538ff7708ee649a4ee8d61</td>\n",
       "      <td>2020-01-01 00:04:25</td>\n",
       "      <td>create</td>\n",
       "    </tr>\n",
       "    <tr>\n",
       "      <th>2</th>\n",
       "      <td>c784798b5d179ca695a405f2c737797b</td>\n",
       "      <td>2020-01-01 00:23:35</td>\n",
       "      <td>create</td>\n",
       "    </tr>\n",
       "    <tr>\n",
       "      <th>3</th>\n",
       "      <td>35ec8d997e035d9a7ca103654661f4d9</td>\n",
       "      <td>2020-01-01 00:25:48</td>\n",
       "      <td>create</td>\n",
       "    </tr>\n",
       "    <tr>\n",
       "      <th>4</th>\n",
       "      <td>070292c8307f41c18e02bb8cd09cfff3</td>\n",
       "      <td>2020-01-01 00:28:17</td>\n",
       "      <td>create</td>\n",
       "    </tr>\n",
       "  </tbody>\n",
       "</table>\n",
       "</div>"
      ],
      "text/plain": [
       "                            user_id           timestamp   event\n",
       "0  eeb5138977d2e18f2f9071624e4d5757 2020-01-01 00:01:22  create\n",
       "1  e28be90ec2538ff7708ee649a4ee8d61 2020-01-01 00:04:25  create\n",
       "2  c784798b5d179ca695a405f2c737797b 2020-01-01 00:23:35  create\n",
       "3  35ec8d997e035d9a7ca103654661f4d9 2020-01-01 00:25:48  create\n",
       "4  070292c8307f41c18e02bb8cd09cfff3 2020-01-01 00:28:17  create"
      ]
     },
     "execution_count": 20,
     "metadata": {},
     "output_type": "execute_result"
    }
   ],
   "source": [
    "create = user_activity[user_activity['event']=='create']\n",
    "create.head()"
   ]
  },
  {
   "cell_type": "code",
   "execution_count": 21,
   "id": "6fab97c1",
   "metadata": {},
   "outputs": [],
   "source": [
    "activated_users = create.set_index(\"user_id\").join(activated_users,how='right', rsuffix='_activated',on= 'user_id')"
   ]
  },
  {
   "cell_type": "code",
   "execution_count": 22,
   "id": "153c3965",
   "metadata": {},
   "outputs": [
    {
     "data": {
      "text/html": [
       "<div>\n",
       "<style scoped>\n",
       "    .dataframe tbody tr th:only-of-type {\n",
       "        vertical-align: middle;\n",
       "    }\n",
       "\n",
       "    .dataframe tbody tr th {\n",
       "        vertical-align: top;\n",
       "    }\n",
       "\n",
       "    .dataframe thead th {\n",
       "        text-align: right;\n",
       "    }\n",
       "</style>\n",
       "<table border=\"1\" class=\"dataframe\">\n",
       "  <thead>\n",
       "    <tr style=\"text-align: right;\">\n",
       "      <th></th>\n",
       "      <th>timestamp</th>\n",
       "      <th>event</th>\n",
       "      <th>date_of_activation</th>\n",
       "      <th>login_count</th>\n",
       "      <th>total_vault_events</th>\n",
       "    </tr>\n",
       "    <tr>\n",
       "      <th>user_id</th>\n",
       "      <th></th>\n",
       "      <th></th>\n",
       "      <th></th>\n",
       "      <th></th>\n",
       "      <th></th>\n",
       "    </tr>\n",
       "  </thead>\n",
       "  <tbody>\n",
       "    <tr>\n",
       "      <th>c16805f31723c4628121655eb3b6b9b8</th>\n",
       "      <td>2020-01-01 00:52:33</td>\n",
       "      <td>create</td>\n",
       "      <td>2020-01-01 00:57:06</td>\n",
       "      <td>7.0</td>\n",
       "      <td>16.0</td>\n",
       "    </tr>\n",
       "    <tr>\n",
       "      <th>eeb5138977d2e18f2f9071624e4d5757</th>\n",
       "      <td>2020-01-01 00:01:22</td>\n",
       "      <td>create</td>\n",
       "      <td>2020-01-01 01:22:02</td>\n",
       "      <td>0.0</td>\n",
       "      <td>1.0</td>\n",
       "    </tr>\n",
       "    <tr>\n",
       "      <th>6022e854c088ffa1f2a04dfad4d05e3f</th>\n",
       "      <td>2020-01-01 00:57:36</td>\n",
       "      <td>create</td>\n",
       "      <td>2020-01-01 01:36:42</td>\n",
       "      <td>3.0</td>\n",
       "      <td>10.0</td>\n",
       "    </tr>\n",
       "    <tr>\n",
       "      <th>5992c483bdab1c36edb7e9ceaea01af0</th>\n",
       "      <td>2020-01-01 02:37:58</td>\n",
       "      <td>create</td>\n",
       "      <td>2020-01-01 03:36:35</td>\n",
       "      <td>5.0</td>\n",
       "      <td>16.0</td>\n",
       "    </tr>\n",
       "    <tr>\n",
       "      <th>4c8fd2ea8b8897f45219c9d5a4e3b11c</th>\n",
       "      <td>2020-01-01 03:48:36</td>\n",
       "      <td>create</td>\n",
       "      <td>2020-01-01 04:19:43</td>\n",
       "      <td>8.0</td>\n",
       "      <td>27.0</td>\n",
       "    </tr>\n",
       "  </tbody>\n",
       "</table>\n",
       "</div>"
      ],
      "text/plain": [
       "                                           timestamp   event  \\\n",
       "user_id                                                        \n",
       "c16805f31723c4628121655eb3b6b9b8 2020-01-01 00:52:33  create   \n",
       "eeb5138977d2e18f2f9071624e4d5757 2020-01-01 00:01:22  create   \n",
       "6022e854c088ffa1f2a04dfad4d05e3f 2020-01-01 00:57:36  create   \n",
       "5992c483bdab1c36edb7e9ceaea01af0 2020-01-01 02:37:58  create   \n",
       "4c8fd2ea8b8897f45219c9d5a4e3b11c 2020-01-01 03:48:36  create   \n",
       "\n",
       "                                  date_of_activation  login_count  \\\n",
       "user_id                                                             \n",
       "c16805f31723c4628121655eb3b6b9b8 2020-01-01 00:57:06          7.0   \n",
       "eeb5138977d2e18f2f9071624e4d5757 2020-01-01 01:22:02          0.0   \n",
       "6022e854c088ffa1f2a04dfad4d05e3f 2020-01-01 01:36:42          3.0   \n",
       "5992c483bdab1c36edb7e9ceaea01af0 2020-01-01 03:36:35          5.0   \n",
       "4c8fd2ea8b8897f45219c9d5a4e3b11c 2020-01-01 04:19:43          8.0   \n",
       "\n",
       "                                  total_vault_events  \n",
       "user_id                                               \n",
       "c16805f31723c4628121655eb3b6b9b8                16.0  \n",
       "eeb5138977d2e18f2f9071624e4d5757                 1.0  \n",
       "6022e854c088ffa1f2a04dfad4d05e3f                10.0  \n",
       "5992c483bdab1c36edb7e9ceaea01af0                16.0  \n",
       "4c8fd2ea8b8897f45219c9d5a4e3b11c                27.0  "
      ]
     },
     "execution_count": 22,
     "metadata": {},
     "output_type": "execute_result"
    }
   ],
   "source": [
    "activated_users.head()"
   ]
  },
  {
   "cell_type": "markdown",
   "id": "58f9035a",
   "metadata": {},
   "source": [
    "Calculating the time take to activate the account and converting it to seconds"
   ]
  },
  {
   "cell_type": "code",
   "execution_count": 23,
   "id": "459df38d",
   "metadata": {},
   "outputs": [],
   "source": [
    "activated_users['time_to_activate']=(activated_users['date_of_activation']-activated_users['timestamp'])\n",
    "activated_users['time_to_activate'] =activated_users['time_to_activate'].apply(lambda x:x.total_seconds())"
   ]
  },
  {
   "cell_type": "code",
   "execution_count": 24,
   "id": "2678bca8",
   "metadata": {},
   "outputs": [
    {
     "data": {
      "text/html": [
       "<div>\n",
       "<style scoped>\n",
       "    .dataframe tbody tr th:only-of-type {\n",
       "        vertical-align: middle;\n",
       "    }\n",
       "\n",
       "    .dataframe tbody tr th {\n",
       "        vertical-align: top;\n",
       "    }\n",
       "\n",
       "    .dataframe thead th {\n",
       "        text-align: right;\n",
       "    }\n",
       "</style>\n",
       "<table border=\"1\" class=\"dataframe\">\n",
       "  <thead>\n",
       "    <tr style=\"text-align: right;\">\n",
       "      <th></th>\n",
       "      <th>date_of_activation</th>\n",
       "      <th>login_count</th>\n",
       "      <th>total_vault_events</th>\n",
       "      <th>time_to_activate</th>\n",
       "    </tr>\n",
       "    <tr>\n",
       "      <th>user_id</th>\n",
       "      <th></th>\n",
       "      <th></th>\n",
       "      <th></th>\n",
       "      <th></th>\n",
       "    </tr>\n",
       "  </thead>\n",
       "  <tbody>\n",
       "    <tr>\n",
       "      <th>c16805f31723c4628121655eb3b6b9b8</th>\n",
       "      <td>2020-01-01 00:57:06</td>\n",
       "      <td>7.0</td>\n",
       "      <td>16.0</td>\n",
       "      <td>273.0</td>\n",
       "    </tr>\n",
       "    <tr>\n",
       "      <th>eeb5138977d2e18f2f9071624e4d5757</th>\n",
       "      <td>2020-01-01 01:22:02</td>\n",
       "      <td>0.0</td>\n",
       "      <td>1.0</td>\n",
       "      <td>4840.0</td>\n",
       "    </tr>\n",
       "    <tr>\n",
       "      <th>6022e854c088ffa1f2a04dfad4d05e3f</th>\n",
       "      <td>2020-01-01 01:36:42</td>\n",
       "      <td>3.0</td>\n",
       "      <td>10.0</td>\n",
       "      <td>2346.0</td>\n",
       "    </tr>\n",
       "    <tr>\n",
       "      <th>5992c483bdab1c36edb7e9ceaea01af0</th>\n",
       "      <td>2020-01-01 03:36:35</td>\n",
       "      <td>5.0</td>\n",
       "      <td>16.0</td>\n",
       "      <td>3517.0</td>\n",
       "    </tr>\n",
       "    <tr>\n",
       "      <th>4c8fd2ea8b8897f45219c9d5a4e3b11c</th>\n",
       "      <td>2020-01-01 04:19:43</td>\n",
       "      <td>8.0</td>\n",
       "      <td>27.0</td>\n",
       "      <td>1867.0</td>\n",
       "    </tr>\n",
       "  </tbody>\n",
       "</table>\n",
       "</div>"
      ],
      "text/plain": [
       "                                  date_of_activation  login_count  \\\n",
       "user_id                                                             \n",
       "c16805f31723c4628121655eb3b6b9b8 2020-01-01 00:57:06          7.0   \n",
       "eeb5138977d2e18f2f9071624e4d5757 2020-01-01 01:22:02          0.0   \n",
       "6022e854c088ffa1f2a04dfad4d05e3f 2020-01-01 01:36:42          3.0   \n",
       "5992c483bdab1c36edb7e9ceaea01af0 2020-01-01 03:36:35          5.0   \n",
       "4c8fd2ea8b8897f45219c9d5a4e3b11c 2020-01-01 04:19:43          8.0   \n",
       "\n",
       "                                  total_vault_events  time_to_activate  \n",
       "user_id                                                                 \n",
       "c16805f31723c4628121655eb3b6b9b8                16.0             273.0  \n",
       "eeb5138977d2e18f2f9071624e4d5757                 1.0            4840.0  \n",
       "6022e854c088ffa1f2a04dfad4d05e3f                10.0            2346.0  \n",
       "5992c483bdab1c36edb7e9ceaea01af0                16.0            3517.0  \n",
       "4c8fd2ea8b8897f45219c9d5a4e3b11c                27.0            1867.0  "
      ]
     },
     "execution_count": 24,
     "metadata": {},
     "output_type": "execute_result"
    }
   ],
   "source": [
    "activated_users= activated_users.drop(['timestamp','event'],axis=1)\n",
    "activated_users.head()"
   ]
  },
  {
   "cell_type": "markdown",
   "id": "f3ca734d",
   "metadata": {},
   "source": [
    "__Converting the date_of activation column to_date__"
   ]
  },
  {
   "cell_type": "code",
   "execution_count": 25,
   "id": "be662f74",
   "metadata": {},
   "outputs": [],
   "source": [
    "activated_users['date_of_activation'] = activated_users['date_of_activation'].dt.date"
   ]
  },
  {
   "cell_type": "code",
   "execution_count": 26,
   "id": "1a5c91eb",
   "metadata": {},
   "outputs": [
    {
     "data": {
      "text/html": [
       "<div>\n",
       "<style scoped>\n",
       "    .dataframe tbody tr th:only-of-type {\n",
       "        vertical-align: middle;\n",
       "    }\n",
       "\n",
       "    .dataframe tbody tr th {\n",
       "        vertical-align: top;\n",
       "    }\n",
       "\n",
       "    .dataframe thead th {\n",
       "        text-align: right;\n",
       "    }\n",
       "</style>\n",
       "<table border=\"1\" class=\"dataframe\">\n",
       "  <thead>\n",
       "    <tr style=\"text-align: right;\">\n",
       "      <th></th>\n",
       "      <th>date_of_activation</th>\n",
       "      <th>login_count</th>\n",
       "      <th>total_vault_events</th>\n",
       "      <th>time_to_activate</th>\n",
       "    </tr>\n",
       "    <tr>\n",
       "      <th>user_id</th>\n",
       "      <th></th>\n",
       "      <th></th>\n",
       "      <th></th>\n",
       "      <th></th>\n",
       "    </tr>\n",
       "  </thead>\n",
       "  <tbody>\n",
       "    <tr>\n",
       "      <th>c16805f31723c4628121655eb3b6b9b8</th>\n",
       "      <td>2020-01-01</td>\n",
       "      <td>7.0</td>\n",
       "      <td>16.0</td>\n",
       "      <td>273.0</td>\n",
       "    </tr>\n",
       "    <tr>\n",
       "      <th>eeb5138977d2e18f2f9071624e4d5757</th>\n",
       "      <td>2020-01-01</td>\n",
       "      <td>0.0</td>\n",
       "      <td>1.0</td>\n",
       "      <td>4840.0</td>\n",
       "    </tr>\n",
       "    <tr>\n",
       "      <th>6022e854c088ffa1f2a04dfad4d05e3f</th>\n",
       "      <td>2020-01-01</td>\n",
       "      <td>3.0</td>\n",
       "      <td>10.0</td>\n",
       "      <td>2346.0</td>\n",
       "    </tr>\n",
       "    <tr>\n",
       "      <th>5992c483bdab1c36edb7e9ceaea01af0</th>\n",
       "      <td>2020-01-01</td>\n",
       "      <td>5.0</td>\n",
       "      <td>16.0</td>\n",
       "      <td>3517.0</td>\n",
       "    </tr>\n",
       "    <tr>\n",
       "      <th>4c8fd2ea8b8897f45219c9d5a4e3b11c</th>\n",
       "      <td>2020-01-01</td>\n",
       "      <td>8.0</td>\n",
       "      <td>27.0</td>\n",
       "      <td>1867.0</td>\n",
       "    </tr>\n",
       "  </tbody>\n",
       "</table>\n",
       "</div>"
      ],
      "text/plain": [
       "                                 date_of_activation  login_count  \\\n",
       "user_id                                                            \n",
       "c16805f31723c4628121655eb3b6b9b8         2020-01-01          7.0   \n",
       "eeb5138977d2e18f2f9071624e4d5757         2020-01-01          0.0   \n",
       "6022e854c088ffa1f2a04dfad4d05e3f         2020-01-01          3.0   \n",
       "5992c483bdab1c36edb7e9ceaea01af0         2020-01-01          5.0   \n",
       "4c8fd2ea8b8897f45219c9d5a4e3b11c         2020-01-01          8.0   \n",
       "\n",
       "                                  total_vault_events  time_to_activate  \n",
       "user_id                                                                 \n",
       "c16805f31723c4628121655eb3b6b9b8                16.0             273.0  \n",
       "eeb5138977d2e18f2f9071624e4d5757                 1.0            4840.0  \n",
       "6022e854c088ffa1f2a04dfad4d05e3f                10.0            2346.0  \n",
       "5992c483bdab1c36edb7e9ceaea01af0                16.0            3517.0  \n",
       "4c8fd2ea8b8897f45219c9d5a4e3b11c                27.0            1867.0  "
      ]
     },
     "execution_count": 26,
     "metadata": {},
     "output_type": "execute_result"
    }
   ],
   "source": [
    "activated_users.head()"
   ]
  },
  {
   "cell_type": "markdown",
   "id": "24ee7e6f",
   "metadata": {},
   "source": [
    "## Writing to csv"
   ]
  },
  {
   "cell_type": "code",
   "execution_count": 27,
   "id": "29d53616",
   "metadata": {},
   "outputs": [],
   "source": [
    "activated_users.to_csv('Activated_user_details.csv',index=True)"
   ]
  },
  {
   "cell_type": "markdown",
   "id": "518c463c",
   "metadata": {},
   "source": [
    "# Question 2\n",
    "\n",
    "### create a dataset that aggreates by month (use activation month) based on the previous dataset, which provides the following dimensions and measures:\n",
    "\n",
    "- activation_month (can be any reasonable format, string or date)\n",
    "- average_days_to_activate: Mean of time_to_activate stated in days(use of decimal places is fine)\n",
    "- average_logins: Mean of total_logins\n",
    "\n"
   ]
  },
  {
   "cell_type": "markdown",
   "id": "e98d7260",
   "metadata": {},
   "source": [
    "Calculating the month and year combination for processing month wise data"
   ]
  },
  {
   "cell_type": "code",
   "execution_count": 28,
   "id": "a46c2b21",
   "metadata": {},
   "outputs": [
    {
     "data": {
      "text/html": [
       "<div>\n",
       "<style scoped>\n",
       "    .dataframe tbody tr th:only-of-type {\n",
       "        vertical-align: middle;\n",
       "    }\n",
       "\n",
       "    .dataframe tbody tr th {\n",
       "        vertical-align: top;\n",
       "    }\n",
       "\n",
       "    .dataframe thead th {\n",
       "        text-align: right;\n",
       "    }\n",
       "</style>\n",
       "<table border=\"1\" class=\"dataframe\">\n",
       "  <thead>\n",
       "    <tr style=\"text-align: right;\">\n",
       "      <th></th>\n",
       "      <th>date_of_activation</th>\n",
       "      <th>login_count</th>\n",
       "      <th>total_vault_events</th>\n",
       "      <th>time_to_activate</th>\n",
       "      <th>month</th>\n",
       "    </tr>\n",
       "    <tr>\n",
       "      <th>user_id</th>\n",
       "      <th></th>\n",
       "      <th></th>\n",
       "      <th></th>\n",
       "      <th></th>\n",
       "      <th></th>\n",
       "    </tr>\n",
       "  </thead>\n",
       "  <tbody>\n",
       "    <tr>\n",
       "      <th>c16805f31723c4628121655eb3b6b9b8</th>\n",
       "      <td>2020-01-01</td>\n",
       "      <td>7.0</td>\n",
       "      <td>16.0</td>\n",
       "      <td>273.0</td>\n",
       "      <td>January-2020</td>\n",
       "    </tr>\n",
       "    <tr>\n",
       "      <th>eeb5138977d2e18f2f9071624e4d5757</th>\n",
       "      <td>2020-01-01</td>\n",
       "      <td>0.0</td>\n",
       "      <td>1.0</td>\n",
       "      <td>4840.0</td>\n",
       "      <td>January-2020</td>\n",
       "    </tr>\n",
       "    <tr>\n",
       "      <th>6022e854c088ffa1f2a04dfad4d05e3f</th>\n",
       "      <td>2020-01-01</td>\n",
       "      <td>3.0</td>\n",
       "      <td>10.0</td>\n",
       "      <td>2346.0</td>\n",
       "      <td>January-2020</td>\n",
       "    </tr>\n",
       "    <tr>\n",
       "      <th>5992c483bdab1c36edb7e9ceaea01af0</th>\n",
       "      <td>2020-01-01</td>\n",
       "      <td>5.0</td>\n",
       "      <td>16.0</td>\n",
       "      <td>3517.0</td>\n",
       "      <td>January-2020</td>\n",
       "    </tr>\n",
       "    <tr>\n",
       "      <th>4c8fd2ea8b8897f45219c9d5a4e3b11c</th>\n",
       "      <td>2020-01-01</td>\n",
       "      <td>8.0</td>\n",
       "      <td>27.0</td>\n",
       "      <td>1867.0</td>\n",
       "      <td>January-2020</td>\n",
       "    </tr>\n",
       "  </tbody>\n",
       "</table>\n",
       "</div>"
      ],
      "text/plain": [
       "                                 date_of_activation  login_count  \\\n",
       "user_id                                                            \n",
       "c16805f31723c4628121655eb3b6b9b8         2020-01-01          7.0   \n",
       "eeb5138977d2e18f2f9071624e4d5757         2020-01-01          0.0   \n",
       "6022e854c088ffa1f2a04dfad4d05e3f         2020-01-01          3.0   \n",
       "5992c483bdab1c36edb7e9ceaea01af0         2020-01-01          5.0   \n",
       "4c8fd2ea8b8897f45219c9d5a4e3b11c         2020-01-01          8.0   \n",
       "\n",
       "                                  total_vault_events  time_to_activate  \\\n",
       "user_id                                                                  \n",
       "c16805f31723c4628121655eb3b6b9b8                16.0             273.0   \n",
       "eeb5138977d2e18f2f9071624e4d5757                 1.0            4840.0   \n",
       "6022e854c088ffa1f2a04dfad4d05e3f                10.0            2346.0   \n",
       "5992c483bdab1c36edb7e9ceaea01af0                16.0            3517.0   \n",
       "4c8fd2ea8b8897f45219c9d5a4e3b11c                27.0            1867.0   \n",
       "\n",
       "                                         month  \n",
       "user_id                                         \n",
       "c16805f31723c4628121655eb3b6b9b8  January-2020  \n",
       "eeb5138977d2e18f2f9071624e4d5757  January-2020  \n",
       "6022e854c088ffa1f2a04dfad4d05e3f  January-2020  \n",
       "5992c483bdab1c36edb7e9ceaea01af0  January-2020  \n",
       "4c8fd2ea8b8897f45219c9d5a4e3b11c  January-2020  "
      ]
     },
     "execution_count": 28,
     "metadata": {},
     "output_type": "execute_result"
    }
   ],
   "source": [
    "activated_users['month']=activated_users['date_of_activation'].apply(lambda x:x.strftime('%B-%Y') if not pd.isnull(x) else '')\n",
    "\n",
    "activated_users.head()"
   ]
  },
  {
   "cell_type": "markdown",
   "id": "e055627c",
   "metadata": {},
   "source": [
    "__Calculating the time take to activate in days__"
   ]
  },
  {
   "cell_type": "code",
   "execution_count": 29,
   "id": "e096fc27",
   "metadata": {},
   "outputs": [],
   "source": [
    "activated_users['time_to_activate_days'] =activated_users['time_to_activate'].apply(lambda x:x/86400)"
   ]
  },
  {
   "cell_type": "markdown",
   "id": "826caee8",
   "metadata": {},
   "source": [
    "__Calculating the average number of days users take to activate month wise__"
   ]
  },
  {
   "cell_type": "code",
   "execution_count": 30,
   "id": "3b6aa475",
   "metadata": {},
   "outputs": [
    {
     "data": {
      "text/html": [
       "<div>\n",
       "<style scoped>\n",
       "    .dataframe tbody tr th:only-of-type {\n",
       "        vertical-align: middle;\n",
       "    }\n",
       "\n",
       "    .dataframe tbody tr th {\n",
       "        vertical-align: top;\n",
       "    }\n",
       "\n",
       "    .dataframe thead th {\n",
       "        text-align: right;\n",
       "    }\n",
       "</style>\n",
       "<table border=\"1\" class=\"dataframe\">\n",
       "  <thead>\n",
       "    <tr style=\"text-align: right;\">\n",
       "      <th></th>\n",
       "      <th>time_to_activate_days</th>\n",
       "    </tr>\n",
       "    <tr>\n",
       "      <th>month</th>\n",
       "      <th></th>\n",
       "    </tr>\n",
       "  </thead>\n",
       "  <tbody>\n",
       "    <tr>\n",
       "      <th>April-2020</th>\n",
       "      <td>0.255664</td>\n",
       "    </tr>\n",
       "    <tr>\n",
       "      <th>February-2020</th>\n",
       "      <td>0.250805</td>\n",
       "    </tr>\n",
       "    <tr>\n",
       "      <th>January-2020</th>\n",
       "      <td>0.246692</td>\n",
       "    </tr>\n",
       "    <tr>\n",
       "      <th>March-2020</th>\n",
       "      <td>0.248384</td>\n",
       "    </tr>\n",
       "  </tbody>\n",
       "</table>\n",
       "</div>"
      ],
      "text/plain": [
       "               time_to_activate_days\n",
       "month                               \n",
       "April-2020                  0.255664\n",
       "February-2020               0.250805\n",
       "January-2020                0.246692\n",
       "March-2020                  0.248384"
      ]
     },
     "execution_count": 30,
     "metadata": {},
     "output_type": "execute_result"
    }
   ],
   "source": [
    "month_wise=pd.DataFrame(activated_users.groupby('month')['time_to_activate_days'].mean())\n",
    "month_wise"
   ]
  },
  {
   "cell_type": "code",
   "execution_count": 31,
   "id": "85edf9ff",
   "metadata": {},
   "outputs": [],
   "source": [
    "logins_per_month= pd.DataFrame(activated_users.groupby('month')['login_count'].mean())"
   ]
  },
  {
   "cell_type": "markdown",
   "id": "ae819124",
   "metadata": {},
   "source": [
    "__Joining the data to get avg logins per activation month__"
   ]
  },
  {
   "cell_type": "code",
   "execution_count": 32,
   "id": "3e1f4931",
   "metadata": {},
   "outputs": [],
   "source": [
    "month_wise=logins_per_month.join(month_wise,on= 'month')"
   ]
  },
  {
   "cell_type": "code",
   "execution_count": 33,
   "id": "d7305e97",
   "metadata": {},
   "outputs": [
    {
     "data": {
      "text/html": [
       "<div>\n",
       "<style scoped>\n",
       "    .dataframe tbody tr th:only-of-type {\n",
       "        vertical-align: middle;\n",
       "    }\n",
       "\n",
       "    .dataframe tbody tr th {\n",
       "        vertical-align: top;\n",
       "    }\n",
       "\n",
       "    .dataframe thead th {\n",
       "        text-align: right;\n",
       "    }\n",
       "</style>\n",
       "<table border=\"1\" class=\"dataframe\">\n",
       "  <thead>\n",
       "    <tr style=\"text-align: right;\">\n",
       "      <th></th>\n",
       "      <th>average_logins</th>\n",
       "      <th>average_days_to_activate</th>\n",
       "    </tr>\n",
       "    <tr>\n",
       "      <th>month</th>\n",
       "      <th></th>\n",
       "      <th></th>\n",
       "    </tr>\n",
       "  </thead>\n",
       "  <tbody>\n",
       "    <tr>\n",
       "      <th>April-2020</th>\n",
       "      <td>5.040330</td>\n",
       "      <td>0.255664</td>\n",
       "    </tr>\n",
       "    <tr>\n",
       "      <th>February-2020</th>\n",
       "      <td>5.045391</td>\n",
       "      <td>0.250805</td>\n",
       "    </tr>\n",
       "    <tr>\n",
       "      <th>January-2020</th>\n",
       "      <td>4.921790</td>\n",
       "      <td>0.246692</td>\n",
       "    </tr>\n",
       "    <tr>\n",
       "      <th>March-2020</th>\n",
       "      <td>5.124150</td>\n",
       "      <td>0.248384</td>\n",
       "    </tr>\n",
       "  </tbody>\n",
       "</table>\n",
       "</div>"
      ],
      "text/plain": [
       "               average_logins  average_days_to_activate\n",
       "month                                                  \n",
       "April-2020           5.040330                  0.255664\n",
       "February-2020        5.045391                  0.250805\n",
       "January-2020         4.921790                  0.246692\n",
       "March-2020           5.124150                  0.248384"
      ]
     },
     "execution_count": 33,
     "metadata": {},
     "output_type": "execute_result"
    }
   ],
   "source": [
    "month_wise = month_wise.rename(columns={ \"month\": \"activation_month\",'time_to_activate_days':'average_days_to_activate','login_count':'average_logins'})\n",
    "month_wise"
   ]
  },
  {
   "cell_type": "code",
   "execution_count": 34,
   "id": "ce436655",
   "metadata": {},
   "outputs": [],
   "source": [
    "month_wise.to_csv('Month_wise_data.csv',index=True)"
   ]
  }
 ],
 "metadata": {
  "kernelspec": {
   "display_name": "Python 3",
   "language": "python",
   "name": "python3"
  },
  "language_info": {
   "codemirror_mode": {
    "name": "ipython",
    "version": 3
   },
   "file_extension": ".py",
   "mimetype": "text/x-python",
   "name": "python",
   "nbconvert_exporter": "python",
   "pygments_lexer": "ipython3",
   "version": "3.8.8"
  }
 },
 "nbformat": 4,
 "nbformat_minor": 5
}
